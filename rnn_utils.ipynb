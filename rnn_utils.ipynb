{
  "nbformat": 4,
  "nbformat_minor": 0,
  "metadata": {
    "colab": {
      "name": "rnn_utils.ipynb",
      "provenance": [],
      "authorship_tag": "ABX9TyNlTki7heiUqg7+vYegThI7",
      "include_colab_link": true
    },
    "kernelspec": {
      "display_name": "Python 3",
      "name": "python3"
    }
  },
  "cells": [
    {
      "cell_type": "markdown",
      "metadata": {
        "id": "view-in-github",
        "colab_type": "text"
      },
      "source": [
        "<a href=\"https://colab.research.google.com/github/shantasharma/computer-vision-assignment/blob/main/rnn_utils.ipynb\" target=\"_parent\"><img src=\"https://colab.research.google.com/assets/colab-badge.svg\" alt=\"Open In Colab\"/></a>"
      ]
    },
    {
      "cell_type": "code",
      "metadata": {
        "id": "BJkhFoCMYLAY",
        "colab": {
          "base_uri": "https://localhost:8080/"
        },
        "outputId": "0707ead0-9e69-4ce4-84cb-c23166f39c31"
      },
      "source": [
        "import numpy as np \r\n",
        "import pandas as pd \r\n",
        "import keras\r\n",
        "from keras.preprocessing.text import Tokenizer\r\n",
        "from keras.preprocessing.sequence import pad_sequences\r\n",
        "from keras.utils import to_categorical\r\n",
        "from keras.models import Model\r\n",
        "import nltk\r\n",
        "from nltk.tokenize import RegexpTokenizer\r\n",
        "from nltk.corpus import stopwords\r\n",
        "import re\r\n",
        "import codecs\r\n",
        "import matplotlib.pyplot as plt\r\n",
        "from sklearn import preprocessing\r\n",
        "from sklearn.model_selection import train_test_split\r\n",
        "from subprocess import check_output\r\n",
        "nltk.download('stopwords')\r\n",
        "\r\n",
        "stop_words = set(stopwords.words('english'))"
      ],
      "execution_count": null,
      "outputs": [
        {
          "output_type": "stream",
          "text": [
            "[nltk_data] Downloading package stopwords to /root/nltk_data...\n",
            "[nltk_data]   Package stopwords is already up-to-date!\n"
          ],
          "name": "stdout"
        }
      ]
    },
    {
      "cell_type": "code",
      "metadata": {
        "colab": {
          "base_uri": "https://localhost:8080/"
        },
        "id": "DyaHsk4Z2FRs",
        "outputId": "982802f8-b2bf-48f9-cd19-31bc551aca04"
      },
      "source": [
        "from google.colab import drive\n",
        "drive.mount('/content/drive')"
      ],
      "execution_count": null,
      "outputs": [
        {
          "output_type": "stream",
          "text": [
            "Mounted at /content/drive\n"
          ],
          "name": "stdout"
        }
      ]
    },
    {
      "cell_type": "code",
      "metadata": {
        "id": "5sb42cuExf3L"
      },
      "source": [
        "#declaration of variables\r\n",
        "\r\n",
        "vocab_size = 10000\r\n",
        "embedding_dim = 32\r\n",
        "max_length = 50\r\n",
        "trunc_type='post'\r\n",
        "oov_tok = \"<OOV>\""
      ],
      "execution_count": null,
      "outputs": []
    },
    {
      "cell_type": "code",
      "metadata": {
        "colab": {
          "base_uri": "https://localhost:8080/",
          "height": 221
        },
        "id": "42pbNW-wG_1l",
        "outputId": "d7fa82de-d096-47af-ae2b-d074727c5f55"
      },
      "source": [
        "#reading the data from CSV file\r\n",
        "\r\n",
        "train_comments = pd.read_csv(\"/content/drive/MyDrive/intern_data/CVAssignmentDataset.csv\", sep=',', header=0)\r\n",
        "train_comments.columns=['label', 'comment_text']\r\n",
        "print(\"num train: \", train_comments.shape[0])\r\n",
        "train_comments.head()"
      ],
      "execution_count": null,
      "outputs": [
        {
          "output_type": "stream",
          "text": [
            "num train:  86456\n"
          ],
          "name": "stdout"
        },
        {
          "output_type": "execute_result",
          "data": {
            "text/html": [
              "<div>\n",
              "<style scoped>\n",
              "    .dataframe tbody tr th:only-of-type {\n",
              "        vertical-align: middle;\n",
              "    }\n",
              "\n",
              "    .dataframe tbody tr th {\n",
              "        vertical-align: top;\n",
              "    }\n",
              "\n",
              "    .dataframe thead th {\n",
              "        text-align: right;\n",
              "    }\n",
              "</style>\n",
              "<table border=\"1\" class=\"dataframe\">\n",
              "  <thead>\n",
              "    <tr style=\"text-align: right;\">\n",
              "      <th></th>\n",
              "      <th>label</th>\n",
              "      <th>comment_text</th>\n",
              "    </tr>\n",
              "  </thead>\n",
              "  <tbody>\n",
              "    <tr>\n",
              "      <th>0</th>\n",
              "      <td>1</td>\n",
              "      <td>Today, Senate Dems vote to #SaveTheInternet. P...</td>\n",
              "    </tr>\n",
              "    <tr>\n",
              "      <th>1</th>\n",
              "      <td>1</td>\n",
              "      <td>RT @WinterHavenSun: Winter Haven resident / Al...</td>\n",
              "    </tr>\n",
              "    <tr>\n",
              "      <th>2</th>\n",
              "      <td>1</td>\n",
              "      <td>RT @NBCLatino: .@RepDarrenSoto noted that Hurr...</td>\n",
              "    </tr>\n",
              "    <tr>\n",
              "      <th>3</th>\n",
              "      <td>1</td>\n",
              "      <td>RT @NALCABPolicy: Meeting with @RepDarrenSoto ...</td>\n",
              "    </tr>\n",
              "    <tr>\n",
              "      <th>4</th>\n",
              "      <td>1</td>\n",
              "      <td>RT @Vegalteno: Hurricane season starts on June...</td>\n",
              "    </tr>\n",
              "  </tbody>\n",
              "</table>\n",
              "</div>"
            ],
            "text/plain": [
              "   label                                       comment_text\n",
              "0      1  Today, Senate Dems vote to #SaveTheInternet. P...\n",
              "1      1  RT @WinterHavenSun: Winter Haven resident / Al...\n",
              "2      1  RT @NBCLatino: .@RepDarrenSoto noted that Hurr...\n",
              "3      1  RT @NALCABPolicy: Meeting with @RepDarrenSoto ...\n",
              "4      1  RT @Vegalteno: Hurricane season starts on June..."
            ]
          },
          "metadata": {
            "tags": []
          },
          "execution_count": 138
        }
      ]
    },
    {
      "cell_type": "code",
      "metadata": {
        "id": "0axeIkc3gCTF"
      },
      "source": [
        "#cleaning the data\r\n",
        "\r\n",
        "def standardize_text(df, text_field):\r\n",
        "    df[text_field] = df[text_field].str.replace(r\"http\\S+\", \"\")\r\n",
        "    df[text_field] = df[text_field].str.replace(r\"http\", \"\")\r\n",
        "    df[text_field] = df[text_field].str.replace(r\"@\\S+\", \"\")\r\n",
        "    df[text_field] = df[text_field].str.replace(r\"[^A-Za-z0-9(),!?@\\'\\`\\\"\\_\\n]\", \" \")\r\n",
        "    df[text_field] = df[text_field].str.replace(r\"@\", \"at\")\r\n",
        "    df[text_field] = df[text_field].str.lower()\r\n",
        "    return df"
      ],
      "execution_count": null,
      "outputs": []
    },
    {
      "cell_type": "code",
      "metadata": {
        "colab": {
          "base_uri": "https://localhost:8080/",
          "height": 204
        },
        "id": "FxhlpE4wgwz2",
        "outputId": "9a46b2fa-49e6-4a81-83ca-31e11a139cab"
      },
      "source": [
        "train_comments.fillna('_NA_')\r\n",
        "train_comments = standardize_text(train_comments, \"comment_text\")\r\n",
        "train_comments.to_csv(\"/content/drive/MyDrive/intern_data/clean_data.csv\")\r\n",
        "train_comments.head()\r\n"
      ],
      "execution_count": null,
      "outputs": [
        {
          "output_type": "execute_result",
          "data": {
            "text/html": [
              "<div>\n",
              "<style scoped>\n",
              "    .dataframe tbody tr th:only-of-type {\n",
              "        vertical-align: middle;\n",
              "    }\n",
              "\n",
              "    .dataframe tbody tr th {\n",
              "        vertical-align: top;\n",
              "    }\n",
              "\n",
              "    .dataframe thead th {\n",
              "        text-align: right;\n",
              "    }\n",
              "</style>\n",
              "<table border=\"1\" class=\"dataframe\">\n",
              "  <thead>\n",
              "    <tr style=\"text-align: right;\">\n",
              "      <th></th>\n",
              "      <th>label</th>\n",
              "      <th>comment_text</th>\n",
              "    </tr>\n",
              "  </thead>\n",
              "  <tbody>\n",
              "    <tr>\n",
              "      <th>0</th>\n",
              "      <td>1</td>\n",
              "      <td>today, senate dems vote to  savetheinternet  p...</td>\n",
              "    </tr>\n",
              "    <tr>\n",
              "      <th>1</th>\n",
              "      <td>1</td>\n",
              "      <td>rt  winter haven resident   alta vista teacher...</td>\n",
              "    </tr>\n",
              "    <tr>\n",
              "      <th>2</th>\n",
              "      <td>1</td>\n",
              "      <td>rt    noted that hurricane maria has left appr...</td>\n",
              "    </tr>\n",
              "    <tr>\n",
              "      <th>3</th>\n",
              "      <td>1</td>\n",
              "      <td>rt  meeting with    thanks for taking the time...</td>\n",
              "    </tr>\n",
              "    <tr>\n",
              "      <th>4</th>\n",
              "      <td>1</td>\n",
              "      <td>rt  hurricane season starts on june 1st  puert...</td>\n",
              "    </tr>\n",
              "  </tbody>\n",
              "</table>\n",
              "</div>"
            ],
            "text/plain": [
              "   label                                       comment_text\n",
              "0      1  today, senate dems vote to  savetheinternet  p...\n",
              "1      1  rt  winter haven resident   alta vista teacher...\n",
              "2      1  rt    noted that hurricane maria has left appr...\n",
              "3      1  rt  meeting with    thanks for taking the time...\n",
              "4      1  rt  hurricane season starts on june 1st  puert..."
            ]
          },
          "metadata": {
            "tags": []
          },
          "execution_count": 140
        }
      ]
    },
    {
      "cell_type": "code",
      "metadata": {
        "id": "jA0Ad2ddmAAG"
      },
      "source": [
        "c_comments = pd.read_csv(\"/content/drive/MyDrive/intern_data/train_clean_data.csv\")\r\n",
        "c_comments['comment_text'] = c_comments['comment_text'].astype('str')"
      ],
      "execution_count": null,
      "outputs": []
    },
    {
      "cell_type": "code",
      "metadata": {
        "colab": {
          "base_uri": "https://localhost:8080/",
          "height": 204
        },
        "id": "9nXLat570sbp",
        "outputId": "277efce8-89df-474b-d707-da3b14fcaf53"
      },
      "source": [
        "tokenizer = RegexpTokenizer(r'\\w+')\r\n",
        "c_comments = pd.read_csv(\"/content/drive/MyDrive/intern_data/clean_data.csv\")\r\n",
        "c_comments['comment_text'] = c_comments['comment_text'].astype('str') \r\n",
        "c_comments.dtypes\r\n",
        "c_comments[\"tokens\"] = c_comments[\"comment_text\"].apply(tokenizer.tokenize)\r\n",
        "# delete Stop Words\r\n",
        "c_comments[\"tokens\"] = c_comments[\"tokens\"].apply(lambda vec: [word for word in vec if word not in stop_words])\r\n",
        "   \r\n",
        "c_comments.head()"
      ],
      "execution_count": null,
      "outputs": [
        {
          "output_type": "execute_result",
          "data": {
            "text/html": [
              "<div>\n",
              "<style scoped>\n",
              "    .dataframe tbody tr th:only-of-type {\n",
              "        vertical-align: middle;\n",
              "    }\n",
              "\n",
              "    .dataframe tbody tr th {\n",
              "        vertical-align: top;\n",
              "    }\n",
              "\n",
              "    .dataframe thead th {\n",
              "        text-align: right;\n",
              "    }\n",
              "</style>\n",
              "<table border=\"1\" class=\"dataframe\">\n",
              "  <thead>\n",
              "    <tr style=\"text-align: right;\">\n",
              "      <th></th>\n",
              "      <th>Unnamed: 0</th>\n",
              "      <th>label</th>\n",
              "      <th>comment_text</th>\n",
              "      <th>tokens</th>\n",
              "    </tr>\n",
              "  </thead>\n",
              "  <tbody>\n",
              "    <tr>\n",
              "      <th>0</th>\n",
              "      <td>0</td>\n",
              "      <td>1</td>\n",
              "      <td>today, senate dems vote to  savetheinternet  p...</td>\n",
              "      <td>[today, senate, dems, vote, savetheinternet, p...</td>\n",
              "    </tr>\n",
              "    <tr>\n",
              "      <th>1</th>\n",
              "      <td>1</td>\n",
              "      <td>1</td>\n",
              "      <td>rt  winter haven resident   alta vista teacher...</td>\n",
              "      <td>[rt, winter, resident, alta, vista, teacher, o...</td>\n",
              "    </tr>\n",
              "    <tr>\n",
              "      <th>2</th>\n",
              "      <td>2</td>\n",
              "      <td>1</td>\n",
              "      <td>rt    noted that hurricane maria has left appr...</td>\n",
              "      <td>[rt, noted, hurricane, maria, left, approximat...</td>\n",
              "    </tr>\n",
              "    <tr>\n",
              "      <th>3</th>\n",
              "      <td>3</td>\n",
              "      <td>1</td>\n",
              "      <td>rt  meeting with    thanks for taking the time...</td>\n",
              "      <td>[rt, meeting, thanks, taking, time, meet, ed, ...</td>\n",
              "    </tr>\n",
              "    <tr>\n",
              "      <th>4</th>\n",
              "      <td>4</td>\n",
              "      <td>1</td>\n",
              "      <td>rt  hurricane season starts on june 1st  puert...</td>\n",
              "      <td>[rt, hurricane, season, starts, june, 1st, pue...</td>\n",
              "    </tr>\n",
              "  </tbody>\n",
              "</table>\n",
              "</div>"
            ],
            "text/plain": [
              "   Unnamed: 0  ...                                             tokens\n",
              "0           0  ...  [today, senate, dems, vote, savetheinternet, p...\n",
              "1           1  ...  [rt, winter, resident, alta, vista, teacher, o...\n",
              "2           2  ...  [rt, noted, hurricane, maria, left, approximat...\n",
              "3           3  ...  [rt, meeting, thanks, taking, time, meet, ed, ...\n",
              "4           4  ...  [rt, hurricane, season, starts, june, 1st, pue...\n",
              "\n",
              "[5 rows x 4 columns]"
            ]
          },
          "metadata": {
            "tags": []
          },
          "execution_count": 142
        }
      ]
    },
    {
      "cell_type": "code",
      "metadata": {
        "id": "IVnzT_F4X6pE"
      },
      "source": [
        "tokenizer = Tokenizer(num_words = vocab_size, oov_token=oov_tok)\r\n",
        "tokenizer.fit_on_texts(c_comments['comment_text'])\r\n",
        "word_index = tokenizer.word_index\r\n",
        "sequences = tokenizer.texts_to_sequences(c_comments['comment_text'])\r\n",
        "padded = pad_sequences(sequences,maxlen=max_length, truncating=trunc_type)"
      ],
      "execution_count": null,
      "outputs": []
    },
    {
      "cell_type": "code",
      "metadata": {
        "id": "awn8ZoYzAFpr"
      },
      "source": [
        "X_train,X_test, Y_train, Y_test =  train_test_split(padded, Y_new,test_size =0.20,random_state= 4 )"
      ],
      "execution_count": null,
      "outputs": []
    },
    {
      "cell_type": "code",
      "metadata": {
        "id": "6F1J0yJdMwOc"
      },
      "source": [
        "e = model.layers[0]\r\n",
        "weights = e.get_weights()[0]"
      ],
      "execution_count": null,
      "outputs": []
    },
    {
      "cell_type": "code",
      "metadata": {
        "id": "i9QDHjyB5yWC"
      },
      "source": [
        "input = Input(shape=(max_length,))\r\n",
        "modell = Embedding(vocab_size, 32, embeddings_initializer='uniform', input_length=max_length)(input)"
      ],
      "execution_count": null,
      "outputs": []
    },
    {
      "cell_type": "code",
      "metadata": {
        "id": "Q6fX3V786fYK"
      },
      "source": [
        "modell = tf.keras.layers.Conv1D(32, kernel_size=1, activation='relu')(modell)\r\n",
        "modell = tf.keras.layers.MaxPooling1D()(modell)\r\n",
        "modell = Bidirectional (LSTM (256 ,return_sequences=True),merge_mode='concat')(modell)\r\n",
        "modell = tf.keras.layers.Dropout(0.01)(modell)\r\n",
        "modell = Bidirectional (LSTM (256 ,return_sequences= False),merge_mode='concat')(modell)\r\n",
        "modell = tf.keras.layers.Dropout(0.01)(modell)\r\n",
        "modell = tf.keras.layers.Flatten()(modell)\r\n",
        "modell = tf.keras.layers.Dropout(0.01)(modell)\r\n",
        "modell = tf.keras.layers.Dense(512 ,activation='relu')(modell)\r\n",
        "output = tf.keras.layers.Dense(1,activation='sigmoid')(modell)\r\n",
        "modell = Model(input,output)\r\n",
        "modell.compile(loss='binary_crossentropy',optimizer='adam', metrics=['accuracy'])"
      ],
      "execution_count": null,
      "outputs": []
    },
    {
      "cell_type": "code",
      "metadata": {
        "colab": {
          "base_uri": "https://localhost:8080/"
        },
        "id": "5WLsZPNZ23Rs",
        "outputId": "3c5f1758-82eb-41b5-a3f3-8a87bcdc1576"
      },
      "source": [
        "modell.summary()"
      ],
      "execution_count": null,
      "outputs": [
        {
          "output_type": "stream",
          "text": [
            "Model: \"model_15\"\n",
            "_________________________________________________________________\n",
            "Layer (type)                 Output Shape              Param #   \n",
            "=================================================================\n",
            "input_27 (InputLayer)        [(None, 50)]              0         \n",
            "_________________________________________________________________\n",
            "embedding_36 (Embedding)     (None, 50, 32)            320000    \n",
            "_________________________________________________________________\n",
            "conv1d_33 (Conv1D)           (None, 50, 32)            1056      \n",
            "_________________________________________________________________\n",
            "max_pooling1d_15 (MaxPooling (None, 25, 32)            0         \n",
            "_________________________________________________________________\n",
            "bidirectional_37 (Bidirectio (None, 25, 512)           591872    \n",
            "_________________________________________________________________\n",
            "dropout_21 (Dropout)         (None, 25, 512)           0         \n",
            "_________________________________________________________________\n",
            "bidirectional_38 (Bidirectio (None, 512)               1574912   \n",
            "_________________________________________________________________\n",
            "dropout_22 (Dropout)         (None, 512)               0         \n",
            "_________________________________________________________________\n",
            "flatten_24 (Flatten)         (None, 512)               0         \n",
            "_________________________________________________________________\n",
            "dropout_23 (Dropout)         (None, 512)               0         \n",
            "_________________________________________________________________\n",
            "dense_69 (Dense)             (None, 512)               262656    \n",
            "_________________________________________________________________\n",
            "dense_70 (Dense)             (None, 1)                 513       \n",
            "=================================================================\n",
            "Total params: 2,751,009\n",
            "Trainable params: 2,751,009\n",
            "Non-trainable params: 0\n",
            "_________________________________________________________________\n"
          ],
          "name": "stdout"
        }
      ]
    },
    {
      "cell_type": "code",
      "metadata": {
        "colab": {
          "base_uri": "https://localhost:8080/"
        },
        "id": "Y9XiHVDk3QFU",
        "outputId": "9ed7fcc3-791f-41bb-8137-5fdd405c8aa5"
      },
      "source": [
        "NUM_EPOCHS = 5\r\n",
        "history = modell.fit(X_train,Y_train, epochs=NUM_EPOCHS, validation_data=(X_test, Y_test))"
      ],
      "execution_count": 149,
      "outputs": [
        {
          "output_type": "stream",
          "text": [
            "Epoch 1/5\n",
            "2162/2162 [==============================] - 1337s 616ms/step - loss: 0.5887 - accuracy: 0.6649 - val_loss: 0.4922 - val_accuracy: 0.7433\n",
            "Epoch 2/5\n",
            "2162/2162 [==============================] - 1336s 618ms/step - loss: 0.4337 - accuracy: 0.7875 - val_loss: 0.4902 - val_accuracy: 0.7498\n",
            "Epoch 3/5\n",
            "2162/2162 [==============================] - 1332s 616ms/step - loss: 0.3926 - accuracy: 0.8097 - val_loss: 0.5051 - val_accuracy: 0.7509\n",
            "Epoch 4/5\n",
            "2162/2162 [==============================] - 1350s 624ms/step - loss: 0.3593 - accuracy: 0.8307 - val_loss: 0.5141 - val_accuracy: 0.7483\n",
            "Epoch 5/5\n",
            "2162/2162 [==============================] - 1346s 623ms/step - loss: 0.3308 - accuracy: 0.8440 - val_loss: 0.5525 - val_accuracy: 0.7461\n"
          ],
          "name": "stdout"
        }
      ]
    },
    {
      "cell_type": "markdown",
      "metadata": {
        "id": "9bDzpqWYb2Ob"
      },
      "source": [
        "**Analysis**"
      ]
    },
    {
      "cell_type": "code",
      "metadata": {
        "id": "xiyFsKHLD0M8",
        "colab": {
          "base_uri": "https://localhost:8080/",
          "height": 312
        },
        "outputId": "1b4b42d7-4f86-456d-9b10-eaf36f228b7b"
      },
      "source": [
        "plt.plot(history.history['accuracy'], 'g')\r\n",
        "plt.plot(history.history['val_accuracy'], 'r')\r\n",
        "plt.legend(['Training Acc', 'Validation Acc'])\r\n",
        "plt.xlabel(\"Epochs\")\r\n",
        "plt.ylabel(\"Accuracy(%)\")\r\n",
        "plt.title('Traning Vs Validation Accuracy')\r\n"
      ],
      "execution_count": 155,
      "outputs": [
        {
          "output_type": "execute_result",
          "data": {
            "text/plain": [
              "Text(0.5, 1.0, 'Traning Vs Validation Accuracy')"
            ]
          },
          "metadata": {
            "tags": []
          },
          "execution_count": 155
        },
        {
          "output_type": "display_data",
          "data": {
            "image/png": "[encoded data removed]",
            "text/plain": [
              "<Figure size 432x288 with 1 Axes>"
            ]
          },
          "metadata": {
            "tags": [],
            "needs_background": "light"
          }
        }
      ]
    },
    {
      "cell_type": "code",
      "metadata": {
        "id": "rTpkqmrqX-4q"
      },
      "source": [
        "from sklearn.metrics import confusion_matrix\r\n",
        "from sklearn.metrics import matthews_corrcoef\r\n",
        "import itertools\r\n",
        "\r\n",
        "y_test = []\r\n",
        "prediction = model.predict(X_test)\r\n",
        "for i in prediction:\r\n",
        "  if i < 0.5:\r\n",
        "    y_test.append(0)\r\n",
        "  else:\r\n",
        "    y_test.append(1)\r\n",
        "\r\n",
        "    \r\n",
        "cm = confusion_matrix(y_true = Y_test, y_pred = y_test)\r\n",
        "\r\n",
        "def plot_confusion_matrix(cm, classes,\r\n",
        "                        normalize=False,\r\n",
        "                        title='Confusion matrix',\r\n",
        "                        cmap=plt.cm.Blues):\r\n",
        "    \"\"\"\r\n",
        "    This function prints and plots the confusion matrix.\r\n",
        "    Normalization can be applied by setting `normalize=True`.\r\n",
        "    \"\"\"\r\n",
        "    plt.imshow(cm, interpolation='nearest', cmap=cmap)\r\n",
        "    plt.title(title)\r\n",
        "    plt.colorbar()\r\n",
        "    tick_marks = np.arange(len(classes))\r\n",
        "    plt.xticks(tick_marks, classes, rotation=45)\r\n",
        "    plt.yticks(tick_marks, classes)\r\n",
        "\r\n",
        "    if normalize:\r\n",
        "        cm = cm.astype('float') / cm.sum(axis=1)[:, np.newaxis]\r\n",
        "        print(\"Normalized confusion matrix\")\r\n",
        "    else:\r\n",
        "        print('Confusion matrix, without normalization')\r\n",
        "\r\n",
        "    print(cm)\r\n",
        "\r\n",
        "    thresh = cm.max() / 2.\r\n",
        "    for i, j in itertools.product(range(cm.shape[0]), range(cm.shape[1])):\r\n",
        "        plt.text(j, i, cm[i, j],\r\n",
        "            horizontalalignment=\"center\",\r\n",
        "            color=\"white\" if cm[i, j] > thresh else \"black\")\r\n",
        "\r\n",
        "    plt.tight_layout()\r\n",
        "    plt.ylabel('True label')\r\n",
        "    plt.xlabel('Predicted label')"
      ],
      "execution_count": 173,
      "outputs": []
    },
    {
      "cell_type": "code",
      "metadata": {
        "colab": {
          "base_uri": "https://localhost:8080/",
          "height": 362
        },
        "id": "-TxyQJn8Z9Up",
        "outputId": "05dd44f7-ac57-45d2-f013-db29b960ed95"
      },
      "source": [
        "plot_confusion_matrix(cm=cm, classes= [1, 0], title='Confusion Matrix')"
      ],
      "execution_count": 176,
      "outputs": [
        {
          "output_type": "stream",
          "text": [
            "Confusion matrix, without normalization\n",
            "[[6684 2206]\n",
            " [2359 6043]]\n"
          ],
          "name": "stdout"
        },
        {
          "output_type": "display_data",
          "data": {
            "image/png": "[encoded data removed]",
            "text/plain": [
              "<Figure size 432x288 with 2 Axes>"
            ]
          },
          "metadata": {
            "tags": [],
            "needs_background": "light"
          }
        }
      ]
    },
    {
      "cell_type": "code",
      "metadata": {
        "colab": {
          "base_uri": "https://localhost:8080/"
        },
        "id": "STLw4eiiYWWD",
        "outputId": "53a76968-4661-4b67-9297-6ee691b553fc"
      },
      "source": [
        "# matthews_corrcoef for validation\r\n",
        "validation = matthews_corrcoef(Y_test, y_test)\r\n",
        "\r\n",
        "print(\"Mathews correlation coeff for validation data is : %f\", validation)"
      ],
      "execution_count": 179,
      "outputs": [
        {
          "output_type": "stream",
          "text": [
            "Mathews correlation coeff for validation data is : %f 0.4713991092050527\n"
          ],
          "name": "stdout"
        }
      ]
    },
    {
      "cell_type": "code",
      "metadata": {
        "id": "r0BY3CSSYzNq"
      },
      "source": [
        ""
      ],
      "execution_count": null,
      "outputs": []
    }
  ]
}